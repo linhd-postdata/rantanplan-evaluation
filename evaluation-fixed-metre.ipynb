{
 "cells": [
  {
   "cell_type": "markdown",
   "metadata": {},
   "source": [
    "# Evaluation"
   ]
  },
  {
   "cell_type": "markdown",
   "metadata": {},
   "source": [
    "This Notebook contains the evaluation metrics for [`Rantanplan`](https://pypi.org/project/rantanplan/0.4.3/) v0.4.3"
   ]
  },
  {
   "cell_type": "code",
   "execution_count": 1,
   "metadata": {},
   "outputs": [
    {
     "name": "stdout",
     "output_type": "stream",
     "text": [
      "Last run: June 18 2020 - 11:25:28\n"
     ]
    }
   ],
   "source": [
    "from datetime import datetime\n",
    "print(f\"Last run: {datetime.utcnow().strftime('%B %d %Y - %H:%M:%S')}\")"
   ]
  },
  {
   "cell_type": "markdown",
   "metadata": {},
   "source": [
    "## Setup"
   ]
  },
  {
   "cell_type": "markdown",
   "metadata": {},
   "source": [
    "Installing dependencies and downloading necessary corpora using [`Averell`](https://pypi.org/project/averell/)."
   ]
  },
  {
   "cell_type": "code",
   "execution_count": 2,
   "metadata": {},
   "outputs": [],
   "source": [
    "!pip install -q pandas numpy \"spacy<2.3.0\" spacy_affixes\n",
    "!pip install -q https://github.com/linhd-postdata/averell/archive/develop.zip"
   ]
  },
  {
   "cell_type": "code",
   "execution_count": 3,
   "metadata": {},
   "outputs": [],
   "source": [
    "%%bash --out _\n",
    "# pip install https://github.com/explosion/spacy-models/archive/es_core_news_md-2.2.5.zip\n",
    "python -m spacy download es_core_news_md\n",
    "python -m spacy_affixes download es"
   ]
  },
  {
   "cell_type": "code",
   "execution_count": 4,
   "metadata": {},
   "outputs": [],
   "source": [
    "!pip install -q \"rantanplan==0.4.3\""
   ]
  },
  {
   "cell_type": "code",
   "execution_count": 5,
   "metadata": {},
   "outputs": [
    {
     "name": "stdout",
     "output_type": "stream",
     "text": [
      "  id  name                size      docs    words  granularity    license\r\n",
      "----  ------------------  ------  ------  -------  -------------  -----------\r\n",
      "   1  Disco V2            22M       4088   381539  stanza         CC-BY\r\n",
      "                                                   line\r\n",
      "   2  Disco V3            28M       4080   377978  stanza         CC-BY\r\n",
      "                                                   line\r\n",
      "   3  Sonetos Siglo       6.8M      5078   466012  stanza         CC-BY-NC\r\n",
      "      de Oro                                       line           4.0\r\n",
      "   4  ADSO 100            128K       100     9208  stanza         CC-BY-NC\r\n",
      "      poems corpus                                 line           4.0\r\n",
      "   5  Poesía Lírica       3.8M       475   299402  stanza         CC-BY-NC\r\n",
      "      Castellana Siglo                             line           4.0\r\n",
      "      de Oro                                       word\r\n",
      "                                                   syllable\r\n",
      "   6  Gongocorpus         9.2M       481    99079  stanza         CC-BY-NC-ND\r\n",
      "                                                   line           3.0\r\n",
      "                                                   word           FR\r\n",
      "                                                   syllable\r\n",
      "   7  Eighteenth Century  2400M     3084  2063668  stanza         CC\r\n",
      "      Poetry Archive                               line           BY-SA\r\n",
      "                                                   word           4.0\r\n"
     ]
    }
   ],
   "source": [
    "!averell list"
   ]
  },
  {
   "cell_type": "code",
   "execution_count": 6,
   "metadata": {},
   "outputs": [
    {
     "name": "stdout",
     "output_type": "stream",
     "text": [
      "Using corpora folder: './corpora'\n",
      "Using corpora folder: './corpora'\n",
      "3.6M\tadso.json\n",
      "175M\tsonnets.json\n"
     ]
    }
   ],
   "source": [
    "%%bash\n",
    "averell download 3 4 > /dev/null 2>&1\n",
    "averell export 3 --granularity line\n",
    "mv corpora/line.json sonnets.json\n",
    "averell export 4 --granularity line\n",
    "mv corpora/line.json adso.json\n",
    "du -h *.json"
   ]
  },
  {
   "cell_type": "markdown",
   "metadata": {},
   "source": [
    "Defining helper functions"
   ]
  },
  {
   "cell_type": "code",
   "execution_count": 7,
   "metadata": {},
   "outputs": [],
   "source": [
    "import json\n",
    "import math\n",
    "import re\n",
    "from io import StringIO\n",
    "\n",
    "import numpy as np\n",
    "import pandas as pd\n",
    "\n",
    "def clean_text(string):\n",
    "    output = string.strip()\n",
    "    # replacements = ((\"“\", '\"'), (\"”\", '\"'), (\"//\", \"\"), (\"«\", '\"'), (\"»\",'\"'))\n",
    "    replacements = ((\"“\", ''), (\"”\", ''), (\"//\", \"\"), (\"«\", ''), (\"»\",''))\n",
    "    for replacement in replacements:\n",
    "        output = output.replace(*replacement)\n",
    "    output = re.sub(r'(?is)\\s+', ' ', output)\n",
    "    output = re.sub(r\"(\\w)-(\\w)\", r\"\\1\\2\", output)  # \"Villa-nueva\" breaks Navarro-Colorado's system\n",
    "    return output"
   ]
  },
  {
   "cell_type": "code",
   "execution_count": 8,
   "metadata": {},
   "outputs": [
    {
     "data": {
      "text/html": [
       "<div>\n",
       "<style scoped>\n",
       "    .dataframe tbody tr th:only-of-type {\n",
       "        vertical-align: middle;\n",
       "    }\n",
       "\n",
       "    .dataframe tbody tr th {\n",
       "        vertical-align: top;\n",
       "    }\n",
       "\n",
       "    .dataframe thead th {\n",
       "        text-align: right;\n",
       "    }\n",
       "</style>\n",
       "<table border=\"1\" class=\"dataframe\">\n",
       "  <thead>\n",
       "    <tr style=\"text-align: right;\">\n",
       "      <th></th>\n",
       "      <th>line_text</th>\n",
       "      <th>metrical_pattern</th>\n",
       "    </tr>\n",
       "  </thead>\n",
       "  <tbody>\n",
       "    <tr>\n",
       "      <th>0</th>\n",
       "      <td>Yo vi unos ojos bellos, que hirieron</td>\n",
       "      <td>++-+-+---+-</td>\n",
       "    </tr>\n",
       "    <tr>\n",
       "      <th>1</th>\n",
       "      <td>con dulce flecha un corazón cuitado,</td>\n",
       "      <td>-+-++--+-+-</td>\n",
       "    </tr>\n",
       "    <tr>\n",
       "      <th>2</th>\n",
       "      <td>y que para encender nuevo cuidado</td>\n",
       "      <td>-----++--+-</td>\n",
       "    </tr>\n",
       "    <tr>\n",
       "      <th>3</th>\n",
       "      <td>su fuerza toda contra mí pusieron.</td>\n",
       "      <td>-+-+---+-+-</td>\n",
       "    </tr>\n",
       "    <tr>\n",
       "      <th>4</th>\n",
       "      <td>Yo vi que muchas veces prometieron</td>\n",
       "      <td>++-+-+---+-</td>\n",
       "    </tr>\n",
       "    <tr>\n",
       "      <th>...</th>\n",
       "      <td>...</td>\n",
       "      <td>...</td>\n",
       "    </tr>\n",
       "    <tr>\n",
       "      <th>1385</th>\n",
       "      <td>cobró armado y prudente su denuedo,</td>\n",
       "      <td>-++--+---+-</td>\n",
       "    </tr>\n",
       "    <tr>\n",
       "      <th>1386</th>\n",
       "      <td>que sin victorias no contó algún día.</td>\n",
       "      <td>---+-+-+++-</td>\n",
       "    </tr>\n",
       "    <tr>\n",
       "      <th>1387</th>\n",
       "      <td>Esto fue don Fadrique de Toledo.</td>\n",
       "      <td>+-+--+---+-</td>\n",
       "    </tr>\n",
       "    <tr>\n",
       "      <th>1388</th>\n",
       "      <td>Hoy nos da, desatado en sombra fría,</td>\n",
       "      <td>+-+--+-+-+-</td>\n",
       "    </tr>\n",
       "    <tr>\n",
       "      <th>1389</th>\n",
       "      <td>llanto a los ojos y al discurso miedo.</td>\n",
       "      <td>+--+---+-+-</td>\n",
       "    </tr>\n",
       "  </tbody>\n",
       "</table>\n",
       "<p>1390 rows × 2 columns</p>\n",
       "</div>"
      ],
      "text/plain": [
       "                                   line_text metrical_pattern\n",
       "0       Yo vi unos ojos bellos, que hirieron      ++-+-+---+-\n",
       "1       con dulce flecha un corazón cuitado,      -+-++--+-+-\n",
       "2          y que para encender nuevo cuidado      -----++--+-\n",
       "3         su fuerza toda contra mí pusieron.      -+-+---+-+-\n",
       "4         Yo vi que muchas veces prometieron      ++-+-+---+-\n",
       "...                                      ...              ...\n",
       "1385     cobró armado y prudente su denuedo,      -++--+---+-\n",
       "1386   que sin victorias no contó algún día.      ---+-+-+++-\n",
       "1387        Esto fue don Fadrique de Toledo.      +-+--+---+-\n",
       "1388    Hoy nos da, desatado en sombra fría,      +-+--+-+-+-\n",
       "1389  llanto a los ojos y al discurso miedo.      +--+---+-+-\n",
       "\n",
       "[1390 rows x 2 columns]"
      ]
     },
     "execution_count": 8,
     "metadata": {},
     "output_type": "execute_result"
    }
   ],
   "source": [
    "adso = pd.DataFrame.from_records(\n",
    "    json.load(open(\"adso.json\"))\n",
    ").query(\"manually_checked == True\")[[\"line_text\", \"metrical_pattern\"]].drop_duplicates().reset_index(drop=True)\n",
    "adso.line_text = adso.line_text.apply(clean_text)\n",
    "adso"
   ]
  },
  {
   "cell_type": "code",
   "execution_count": 9,
   "metadata": {},
   "outputs": [
    {
     "data": {
      "text/html": [
       "<div>\n",
       "<style scoped>\n",
       "    .dataframe tbody tr th:only-of-type {\n",
       "        vertical-align: middle;\n",
       "    }\n",
       "\n",
       "    .dataframe tbody tr th {\n",
       "        vertical-align: top;\n",
       "    }\n",
       "\n",
       "    .dataframe thead th {\n",
       "        text-align: right;\n",
       "    }\n",
       "</style>\n",
       "<table border=\"1\" class=\"dataframe\">\n",
       "  <thead>\n",
       "    <tr style=\"text-align: right;\">\n",
       "      <th></th>\n",
       "      <th>line_text</th>\n",
       "      <th>metrical_pattern</th>\n",
       "    </tr>\n",
       "  </thead>\n",
       "  <tbody>\n",
       "    <tr>\n",
       "      <th>0</th>\n",
       "      <td>Cuando la alegre y dulce primavera</td>\n",
       "      <td>---+-+---+-</td>\n",
       "    </tr>\n",
       "    <tr>\n",
       "      <th>1</th>\n",
       "      <td>a partir sus riquezas comenzaba,</td>\n",
       "      <td>--+--+---+-</td>\n",
       "    </tr>\n",
       "    <tr>\n",
       "      <th>2</th>\n",
       "      <td>y de los verdes campos desterraba</td>\n",
       "      <td>---+-+---+-</td>\n",
       "    </tr>\n",
       "    <tr>\n",
       "      <th>3</th>\n",
       "      <td>aquella estéril sequedad primera,</td>\n",
       "      <td>-+-+---+-+-</td>\n",
       "    </tr>\n",
       "    <tr>\n",
       "      <th>4</th>\n",
       "      <td>un pastor triste y solo en la ribera</td>\n",
       "      <td>+-++-+---+-</td>\n",
       "    </tr>\n",
       "    <tr>\n",
       "      <th>...</th>\n",
       "      <td>...</td>\n",
       "      <td>...</td>\n",
       "    </tr>\n",
       "    <tr>\n",
       "      <th>10205</th>\n",
       "      <td>y en tus labios purpúrea competencia</td>\n",
       "      <td>--+--+---+-</td>\n",
       "    </tr>\n",
       "    <tr>\n",
       "      <th>10206</th>\n",
       "      <td>agora al alba y al clavel ofrece,</td>\n",
       "      <td>-+-+---+-+-</td>\n",
       "    </tr>\n",
       "    <tr>\n",
       "      <th>10207</th>\n",
       "      <td>la edad, con invisible diligencia,</td>\n",
       "      <td>-+---+---+-</td>\n",
       "    </tr>\n",
       "    <tr>\n",
       "      <th>10208</th>\n",
       "      <td>en el común ocaso lo oscurece;</td>\n",
       "      <td>---+-+---+-</td>\n",
       "    </tr>\n",
       "    <tr>\n",
       "      <th>10209</th>\n",
       "      <td>¿cuándo tendrá para volver licencia?</td>\n",
       "      <td>+--+---+-+-</td>\n",
       "    </tr>\n",
       "  </tbody>\n",
       "</table>\n",
       "<p>10210 rows × 2 columns</p>\n",
       "</div>"
      ],
      "text/plain": [
       "                                  line_text metrical_pattern\n",
       "0        Cuando la alegre y dulce primavera      ---+-+---+-\n",
       "1          a partir sus riquezas comenzaba,      --+--+---+-\n",
       "2         y de los verdes campos desterraba      ---+-+---+-\n",
       "3         aquella estéril sequedad primera,      -+-+---+-+-\n",
       "4      un pastor triste y solo en la ribera      +-++-+---+-\n",
       "...                                     ...              ...\n",
       "10205  y en tus labios purpúrea competencia      --+--+---+-\n",
       "10206     agora al alba y al clavel ofrece,      -+-+---+-+-\n",
       "10207    la edad, con invisible diligencia,      -+---+---+-\n",
       "10208        en el común ocaso lo oscurece;      ---+-+---+-\n",
       "10209  ¿cuándo tendrá para volver licencia?      +--+---+-+-\n",
       "\n",
       "[10210 rows x 2 columns]"
      ]
     },
     "execution_count": 9,
     "metadata": {},
     "output_type": "execute_result"
    }
   ],
   "source": [
    "sonnets = pd.DataFrame.from_records(\n",
    "    json.load(open(\"sonnets.json\"))\n",
    ").query(\"manually_checked == True\")[[\"line_text\", \"metrical_pattern\"]].drop_duplicates().reset_index(drop=True)\n",
    "sonnets.line_text = sonnets.line_text.apply(clean_text)\n",
    "sonnets"
   ]
  },
  {
   "cell_type": "code",
   "execution_count": 10,
   "metadata": {},
   "outputs": [],
   "source": [
    "# Fixes an issue with lines containing line breaks, e.g., 7518\n",
    "sonnets.line_text = sonnets.line_text.str.strip().str.split(\"\\n\").str[0].str.strip()"
   ]
  },
  {
   "cell_type": "markdown",
   "metadata": {},
   "source": [
    "Importing `Rantanplan` main functions and warming up the cache."
   ]
  },
  {
   "cell_type": "code",
   "execution_count": 88,
   "metadata": {},
   "outputs": [],
   "source": [
    "from rantanplan.rhymes import analyze_rhyme\n",
    "from rantanplan import get_scansion"
   ]
  },
  {
   "cell_type": "code",
   "execution_count": 89,
   "metadata": {},
   "outputs": [
    {
     "name": "stdout",
     "output_type": "stream",
     "text": [
      "CPU times: user 10.6 ms, sys: 128 µs, total: 10.7 ms\n",
      "Wall time: 9.47 ms\n"
     ]
    }
   ],
   "source": [
    "%%time\n",
    "get_scansion(\"Prueba\")\n",
    "pass"
   ]
  },
  {
   "cell_type": "markdown",
   "metadata": {},
   "source": [
    "## Navarro-Colorado"
   ]
  },
  {
   "cell_type": "markdown",
   "metadata": {},
   "source": [
    "Preparing corpora and measuring running times for Navarro-Colorado scansion system."
   ]
  },
  {
   "cell_type": "code",
   "execution_count": 13,
   "metadata": {},
   "outputs": [],
   "source": [
    "!mkdir -p sonnets\n",
    "!mkdir -p adso\n",
    "!mkdir -p outputs"
   ]
  },
  {
   "cell_type": "code",
   "execution_count": 14,
   "metadata": {},
   "outputs": [],
   "source": [
    "with open(\"adso/adso.txt\", \"w\") as file:\n",
    "    file.write(\"\\n\".join(adso[\"line_text\"].values))\n",
    "with open(\"sonnets/sonnets.txt\", \"w\") as file:\n",
    "    file.write(\"\\n\".join(sonnets[\"line_text\"].values))"
   ]
  },
  {
   "cell_type": "markdown",
   "metadata": {},
   "source": [
    "We built and pushed a Docker image with Navarro-Colorado scansion system. The execution of the next cells will take a very long time and will produce a very verbose output in the process which we will omit. Alternatively, the files `./data/navarro_colorado_adso.xml` and `./data/navarro_colorado_sonnets.xml` contain the output of the last run."
   ]
  },
  {
   "cell_type": "code",
   "execution_count": 15,
   "metadata": {},
   "outputs": [],
   "source": [
    "%%bash --err adso_timing --out adso_output\n",
    "time -p docker run -v $(pwd)/adso:/adso/data_in -v $(pwd)/outputs:/adso/data_out linhdpostdata/adso\n",
    "cp outputs/adso.xml data/navarro_colorado_adso.xml"
   ]
  },
  {
   "cell_type": "code",
   "execution_count": 16,
   "metadata": {},
   "outputs": [],
   "source": [
    "navarro_colorado_adso_times = dict(pair.split(\" \") for pair in adso_timing.strip().split(\"\\n\")[-3:])"
   ]
  },
  {
   "cell_type": "code",
   "execution_count": 17,
   "metadata": {},
   "outputs": [],
   "source": [
    "%%bash --err sonnets_timing --out sonnets_output\n",
    "time -p docker run -v $(pwd)/sonnets:/adso/data_in -v $(pwd)/outputs:/adso/data_out linhdpostdata/adso\n",
    "cp outputs/sonnets.xml data/navarro_colorado_sonnets.xml"
   ]
  },
  {
   "cell_type": "code",
   "execution_count": 18,
   "metadata": {},
   "outputs": [],
   "source": [
    "navarro_colorado_sonnets_times = dict(pair.split(\" \") for pair in sonnets_timing.strip().split(\"\\n\")[-3:])"
   ]
  },
  {
   "cell_type": "markdown",
   "metadata": {},
   "source": [
    "Loading the outputs of the ADSO System into Pandas `DataFrame`'s"
   ]
  },
  {
   "cell_type": "code",
   "execution_count": 19,
   "metadata": {},
   "outputs": [],
   "source": [
    "from glob import glob\n",
    "from xml.etree import ElementTree\n",
    "\n",
    "\n",
    "def load_tei(filename):\n",
    "    lines = []\n",
    "    with open(filename, \"r\") as xml:\n",
    "        contents = xml.read()\n",
    "        tree = ElementTree.fromstring(contents)\n",
    "        tags = tree.findall(\".//{http://www.tei-c.org/ns/1.0}l\")\n",
    "        for tag in tags:\n",
    "            text = clean_text(tag.text)\n",
    "            lines.append((text, tag.attrib['met']))\n",
    "    return pd.DataFrame(lines, columns=[\"line_text\", \"metrical_pattern\"])"
   ]
  },
  {
   "cell_type": "code",
   "execution_count": 20,
   "metadata": {},
   "outputs": [
    {
     "data": {
      "text/html": [
       "<div>\n",
       "<style scoped>\n",
       "    .dataframe tbody tr th:only-of-type {\n",
       "        vertical-align: middle;\n",
       "    }\n",
       "\n",
       "    .dataframe tbody tr th {\n",
       "        vertical-align: top;\n",
       "    }\n",
       "\n",
       "    .dataframe thead th {\n",
       "        text-align: right;\n",
       "    }\n",
       "</style>\n",
       "<table border=\"1\" class=\"dataframe\">\n",
       "  <thead>\n",
       "    <tr style=\"text-align: right;\">\n",
       "      <th></th>\n",
       "      <th>line_text</th>\n",
       "      <th>metrical_pattern</th>\n",
       "    </tr>\n",
       "  </thead>\n",
       "  <tbody>\n",
       "    <tr>\n",
       "      <th>0</th>\n",
       "      <td>Yo vi unos ojos bellos, que hirieron</td>\n",
       "      <td>++-+-+---+-</td>\n",
       "    </tr>\n",
       "    <tr>\n",
       "      <th>1</th>\n",
       "      <td>con dulce flecha un corazón cuitado,</td>\n",
       "      <td>-+-++--+-+-</td>\n",
       "    </tr>\n",
       "    <tr>\n",
       "      <th>2</th>\n",
       "      <td>y que para encender nuevo cuidado</td>\n",
       "      <td>-----++--+-</td>\n",
       "    </tr>\n",
       "    <tr>\n",
       "      <th>3</th>\n",
       "      <td>su fuerza toda contra mí pusieron.</td>\n",
       "      <td>-+-+---+-+-</td>\n",
       "    </tr>\n",
       "    <tr>\n",
       "      <th>4</th>\n",
       "      <td>Yo vi que muchas veces prometieron</td>\n",
       "      <td>++-+-+---+-</td>\n",
       "    </tr>\n",
       "    <tr>\n",
       "      <th>...</th>\n",
       "      <td>...</td>\n",
       "      <td>...</td>\n",
       "    </tr>\n",
       "    <tr>\n",
       "      <th>1385</th>\n",
       "      <td>cobró armado y prudente su denuedo,</td>\n",
       "      <td>-++--+---+-</td>\n",
       "    </tr>\n",
       "    <tr>\n",
       "      <th>1386</th>\n",
       "      <td>que sin victorias no contó algún día.</td>\n",
       "      <td>---+-+-+++-</td>\n",
       "    </tr>\n",
       "    <tr>\n",
       "      <th>1387</th>\n",
       "      <td>Esto fue don Fadrique de Toledo.</td>\n",
       "      <td>+-++-+---+-</td>\n",
       "    </tr>\n",
       "    <tr>\n",
       "      <th>1388</th>\n",
       "      <td>Hoy nos da, desatado en sombra fría,</td>\n",
       "      <td>+-+--+-+-+-</td>\n",
       "    </tr>\n",
       "    <tr>\n",
       "      <th>1389</th>\n",
       "      <td>llanto a los ojos y al discurso miedo.</td>\n",
       "      <td>+--+---+-+-</td>\n",
       "    </tr>\n",
       "  </tbody>\n",
       "</table>\n",
       "<p>1390 rows × 2 columns</p>\n",
       "</div>"
      ],
      "text/plain": [
       "                                   line_text metrical_pattern\n",
       "0       Yo vi unos ojos bellos, que hirieron      ++-+-+---+-\n",
       "1       con dulce flecha un corazón cuitado,      -+-++--+-+-\n",
       "2          y que para encender nuevo cuidado      -----++--+-\n",
       "3         su fuerza toda contra mí pusieron.      -+-+---+-+-\n",
       "4         Yo vi que muchas veces prometieron      ++-+-+---+-\n",
       "...                                      ...              ...\n",
       "1385     cobró armado y prudente su denuedo,      -++--+---+-\n",
       "1386   que sin victorias no contó algún día.      ---+-+-+++-\n",
       "1387        Esto fue don Fadrique de Toledo.      +-++-+---+-\n",
       "1388    Hoy nos da, desatado en sombra fría,      +-+--+-+-+-\n",
       "1389  llanto a los ojos y al discurso miedo.      +--+---+-+-\n",
       "\n",
       "[1390 rows x 2 columns]"
      ]
     },
     "execution_count": 20,
     "metadata": {},
     "output_type": "execute_result"
    }
   ],
   "source": [
    "navarro_colorado_adso = load_tei(\"outputs/adso.xml\")\n",
    "navarro_colorado_adso"
   ]
  },
  {
   "cell_type": "code",
   "execution_count": 21,
   "metadata": {},
   "outputs": [
    {
     "data": {
      "text/html": [
       "<div>\n",
       "<style scoped>\n",
       "    .dataframe tbody tr th:only-of-type {\n",
       "        vertical-align: middle;\n",
       "    }\n",
       "\n",
       "    .dataframe tbody tr th {\n",
       "        vertical-align: top;\n",
       "    }\n",
       "\n",
       "    .dataframe thead th {\n",
       "        text-align: right;\n",
       "    }\n",
       "</style>\n",
       "<table border=\"1\" class=\"dataframe\">\n",
       "  <thead>\n",
       "    <tr style=\"text-align: right;\">\n",
       "      <th></th>\n",
       "      <th>line_text</th>\n",
       "      <th>metrical_pattern</th>\n",
       "    </tr>\n",
       "  </thead>\n",
       "  <tbody>\n",
       "    <tr>\n",
       "      <th>0</th>\n",
       "      <td>Cuando la alegre y dulce primavera</td>\n",
       "      <td>---+-+---+-</td>\n",
       "    </tr>\n",
       "    <tr>\n",
       "      <th>1</th>\n",
       "      <td>a partir sus riquezas comenzaba,</td>\n",
       "      <td>--+--+---+-</td>\n",
       "    </tr>\n",
       "    <tr>\n",
       "      <th>2</th>\n",
       "      <td>y de los verdes campos desterraba</td>\n",
       "      <td>---+-+---+-</td>\n",
       "    </tr>\n",
       "    <tr>\n",
       "      <th>3</th>\n",
       "      <td>aquella estéril sequedad primera,</td>\n",
       "      <td>-+-+---+-+-</td>\n",
       "    </tr>\n",
       "    <tr>\n",
       "      <th>4</th>\n",
       "      <td>un pastor triste y solo en la ribera</td>\n",
       "      <td>+-++-+---+-</td>\n",
       "    </tr>\n",
       "    <tr>\n",
       "      <th>...</th>\n",
       "      <td>...</td>\n",
       "      <td>...</td>\n",
       "    </tr>\n",
       "    <tr>\n",
       "      <th>10205</th>\n",
       "      <td>y en tus labios purpúrea competencia</td>\n",
       "      <td>--+--+---+-</td>\n",
       "    </tr>\n",
       "    <tr>\n",
       "      <th>10206</th>\n",
       "      <td>agora al alba y al clavel ofrece,</td>\n",
       "      <td>-+-+---+-+-</td>\n",
       "    </tr>\n",
       "    <tr>\n",
       "      <th>10207</th>\n",
       "      <td>la edad, con invisible diligencia,</td>\n",
       "      <td>-+---+---+-</td>\n",
       "    </tr>\n",
       "    <tr>\n",
       "      <th>10208</th>\n",
       "      <td>en el común ocaso lo oscurece;</td>\n",
       "      <td>---+-+---+-</td>\n",
       "    </tr>\n",
       "    <tr>\n",
       "      <th>10209</th>\n",
       "      <td>¿cuándo tendrá para volver licencia?</td>\n",
       "      <td>+--+---+-+-</td>\n",
       "    </tr>\n",
       "  </tbody>\n",
       "</table>\n",
       "<p>10210 rows × 2 columns</p>\n",
       "</div>"
      ],
      "text/plain": [
       "                                  line_text metrical_pattern\n",
       "0        Cuando la alegre y dulce primavera      ---+-+---+-\n",
       "1          a partir sus riquezas comenzaba,      --+--+---+-\n",
       "2         y de los verdes campos desterraba      ---+-+---+-\n",
       "3         aquella estéril sequedad primera,      -+-+---+-+-\n",
       "4      un pastor triste y solo en la ribera      +-++-+---+-\n",
       "...                                     ...              ...\n",
       "10205  y en tus labios purpúrea competencia      --+--+---+-\n",
       "10206     agora al alba y al clavel ofrece,      -+-+---+-+-\n",
       "10207    la edad, con invisible diligencia,      -+---+---+-\n",
       "10208        en el común ocaso lo oscurece;      ---+-+---+-\n",
       "10209  ¿cuándo tendrá para volver licencia?      +--+---+-+-\n",
       "\n",
       "[10210 rows x 2 columns]"
      ]
     },
     "execution_count": 21,
     "metadata": {},
     "output_type": "execute_result"
    }
   ],
   "source": [
    "navarro_colorado_sonnets = load_tei(\"outputs/sonnets.xml\")\n",
    "navarro_colorado_sonnets"
   ]
  },
  {
   "cell_type": "markdown",
   "metadata": {},
   "source": [
    "### Accuracy on ADSO"
   ]
  },
  {
   "cell_type": "code",
   "execution_count": 22,
   "metadata": {},
   "outputs": [
    {
     "name": "stdout",
     "output_type": "stream",
     "text": [
      "Navarro-Colorado on ADSO: 0.9453 (2698.15s)\n"
     ]
    }
   ],
   "source": [
    "correct = sum(navarro_colorado_adso.metrical_pattern == adso.metrical_pattern)\n",
    "accuracy_navarro_colorado_adso = correct / adso.metrical_pattern.size\n",
    "print(f\"Navarro-Colorado on ADSO: {accuracy_navarro_colorado_adso:.4f} ({navarro_colorado_adso_times['real']}s)\")"
   ]
  },
  {
   "cell_type": "markdown",
   "metadata": {},
   "source": [
    "### Accuracy on Sonnets"
   ]
  },
  {
   "cell_type": "code",
   "execution_count": 24,
   "metadata": {},
   "outputs": [
    {
     "name": "stdout",
     "output_type": "stream",
     "text": [
      "Navarro-Colorado on Sonnets: 0.9088 (19945.01s)\n"
     ]
    }
   ],
   "source": [
    "correct = sum(navarro_colorado_sonnets.metrical_pattern == sonnets.metrical_pattern)\n",
    "accuracy_navarro_colorado_sonnets = correct / sonnets.metrical_pattern.size\n",
    "print(f\"Navarro-Colorado on Sonnets: {accuracy_navarro_colorado_sonnets:.4f} ({navarro_colorado_sonnets_times['real']}s)\")"
   ]
  },
  {
   "cell_type": "markdown",
   "metadata": {},
   "source": [
    "---"
   ]
  },
  {
   "cell_type": "markdown",
   "metadata": {},
   "source": [
    "## Gervás"
   ]
  },
  {
   "cell_type": "markdown",
   "metadata": {},
   "source": [
    "Gervás was kind enough to run its system against the ADSO corpus and sending us the results for evaluation. We are including the raw results and the transformations functions we used to evaluate its performance."
   ]
  },
  {
   "cell_type": "code",
   "execution_count": 28,
   "metadata": {},
   "outputs": [],
   "source": [
    "with open(\"data/gervas_adso.txt\", \"r\") as file:\n",
    "    lines = file.read().split(\"\\n\")\n",
    "    gervas = pd.DataFrame.from_records(\n",
    "        [(lines[index-1], *lines[index].split(\" \")) for index, line in enumerate(lines) if index % 2 != 0]\n",
    "    ).drop([1, 6, 9, 10], axis=1).rename(columns={\n",
    "        0: \"line_text\",\n",
    "        2: \"stress\",\n",
    "        3: \"indexed_metrical_pattern\",\n",
    "        4: \"length\",\n",
    "        5: \"metrical_yype\",\n",
    "        7: \"consonant_ending\",\n",
    "        8: \"asonant_ending\",\n",
    "    })\n",
    "    \n",
    "def indexed2binary(df):\n",
    "    binary = [\"-\" for i in range(int(df[\"length\"]))]\n",
    "    for pos in df[\"indexed_metrical_pattern\"].split(\"'\"):\n",
    "        binary[int(pos) - 1] = \"+\"\n",
    "    return \"\".join(binary)\n",
    "    \n",
    "gervas[\"metrical_pattern\"] = gervas.apply(indexed2binary, axis=1)"
   ]
  },
  {
   "cell_type": "markdown",
   "metadata": {},
   "source": [
    "Calculating overlap of verses evaluated by Gervás and those in ADSO"
   ]
  },
  {
   "cell_type": "code",
   "execution_count": 29,
   "metadata": {},
   "outputs": [
    {
     "name": "stdout",
     "output_type": "stream",
     "text": [
      "1291 lines from ADSO\n"
     ]
    }
   ],
   "source": [
    "overlap_adso = list(set(gervas.line_text.tolist()) & set(adso.line_text.tolist()))\n",
    "print(f\"{len(overlap_adso)} lines from ADSO\")"
   ]
  },
  {
   "cell_type": "code",
   "execution_count": 30,
   "metadata": {},
   "outputs": [
    {
     "name": "stdout",
     "output_type": "stream",
     "text": [
      "9639 lines from Sonnets\n"
     ]
    }
   ],
   "source": [
    "overlap_sonnets = list(set(gervas.line_text.tolist()) & set(sonnets.line_text.tolist()))\n",
    "print(f\"{len(overlap_sonnets)} lines from Sonnets\")"
   ]
  },
  {
   "cell_type": "markdown",
   "metadata": {},
   "source": [
    "### Accuracy on ADSO"
   ]
  },
  {
   "cell_type": "code",
   "execution_count": 31,
   "metadata": {},
   "outputs": [
    {
     "name": "stdout",
     "output_type": "stream",
     "text": [
      "Gervás on 1291 ADSO lines: 0.7088\n"
     ]
    }
   ],
   "source": [
    "gervas_metrical_patterns = gervas[gervas.line_text.isin(overlap_adso)].sort_values(\"line_text\").metrical_pattern.values\n",
    "adso_metrical_patterns = adso[adso.line_text.isin(overlap_adso)].sort_values(\"line_text\").metrical_pattern.values\n",
    "accuracy_gervas_adso = sum(gervas_metrical_patterns == adso_metrical_patterns) / len(adso_metrical_patterns)\n",
    "print(f\"Gervás on {len(overlap_adso)} ADSO lines: {accuracy_gervas_adso:.4f}\")"
   ]
  },
  {
   "cell_type": "markdown",
   "metadata": {},
   "source": [
    "Despite the difference in the number of lines, this value is way lower than the originally reported by Gervás (0.8873)."
   ]
  },
  {
   "cell_type": "markdown",
   "metadata": {},
   "source": [
    "### Accuracy on Sonnets"
   ]
  },
  {
   "cell_type": "code",
   "execution_count": 43,
   "metadata": {},
   "outputs": [
    {
     "name": "stdout",
     "output_type": "stream",
     "text": [
      "Gervás on 9639 Sonnets lines: 0.6759\n"
     ]
    }
   ],
   "source": [
    "gervas_metrical_patterns = (gervas[gervas.line_text.isin(overlap_sonnets)]\n",
    "    .drop_duplicates(\"line_text\")\n",
    "    .sort_values(\"line_text\")\n",
    "    .metrical_pattern\n",
    "    .values)\n",
    "sonnets_metrical_patterns = (sonnets[sonnets.line_text.isin(overlap_sonnets)]\n",
    "    .drop_duplicates(\"line_text\")\n",
    "    .sort_values(\"line_text\")\n",
    "    .metrical_pattern\n",
    "    .values)\n",
    "accuracy_gervas_sonnets = sum(gervas_metrical_patterns == sonnets_metrical_patterns) / len(sonnets_metrical_patterns)\n",
    "print(f\"Gervás on {len(overlap_sonnets)} Sonnets lines: {accuracy_gervas_sonnets:.4f}\")"
   ]
  },
  {
   "cell_type": "markdown",
   "metadata": {},
   "source": [
    "---"
   ]
  },
  {
   "cell_type": "markdown",
   "metadata": {},
   "source": [
    "## Rantanplan"
   ]
  },
  {
   "cell_type": "markdown",
   "metadata": {},
   "source": [
    "Importing libraries. We will disable cache so subsequent calls while timing execution doesn't get affeted."
   ]
  },
  {
   "cell_type": "code",
   "execution_count": 44,
   "metadata": {},
   "outputs": [],
   "source": [
    "import rantanplan.pipeline\n",
    "from rantanplan import get_scansion"
   ]
  },
  {
   "cell_type": "markdown",
   "metadata": {},
   "source": [
    "Measuring running times for Rantanplan on ADSO"
   ]
  },
  {
   "cell_type": "code",
   "execution_count": 73,
   "metadata": {},
   "outputs": [],
   "source": [
    "adso_text = \"\\n\".join(adso.line_text.values)\n",
    "adso_lengths = [11] * adso.line_text.size"
   ]
  },
  {
   "cell_type": "code",
   "execution_count": 64,
   "metadata": {},
   "outputs": [
    {
     "name": "stdout",
     "output_type": "stream",
     "text": [
      "9.54 s ± 176 ms per loop (mean ± std. dev. of 7 runs, 1 loop each)\n"
     ]
    }
   ],
   "source": [
    "# disabling cache\n",
    "rantanplan_adso_times = %timeit -o rantanplan.pipeline._load_pipeline = {}; get_scansion(adso_text, rhythmical_lengths=adso_lengths)"
   ]
  },
  {
   "cell_type": "code",
   "execution_count": 74,
   "metadata": {},
   "outputs": [],
   "source": [
    "rantanplan_adso = get_scansion(adso_text, rhythmical_lengths=adso_lengths)\n",
    "rantanplan_adso_stress = [line[\"rhythm\"][\"stress\"] for line in rantanplan_adso]"
   ]
  },
  {
   "cell_type": "markdown",
   "metadata": {},
   "source": [
    "Measuring running times for Rantanplan on Sonnets"
   ]
  },
  {
   "cell_type": "code",
   "execution_count": 49,
   "metadata": {},
   "outputs": [],
   "source": [
    "sonnets_text = \"\\n\".join(sonnets.line_text.values)\n",
    "sonnets_lengths = [11] * sonnets.line_text.size"
   ]
  },
  {
   "cell_type": "code",
   "execution_count": 66,
   "metadata": {},
   "outputs": [
    {
     "name": "stdout",
     "output_type": "stream",
     "text": [
      "53.5 s ± 1.78 s per loop (mean ± std. dev. of 7 runs, 1 loop each)\n"
     ]
    }
   ],
   "source": [
    "# disabling cache\n",
    "rantanplan_sonnets_times = %timeit -o rantanplan.pipeline._load_pipeline = {}; rantanplan_sonnets = get_scansion(sonnets_text, rhythmical_lengths=sonnets_lengths)"
   ]
  },
  {
   "cell_type": "code",
   "execution_count": 52,
   "metadata": {},
   "outputs": [],
   "source": [
    "rantanplan_sonnets = get_scansion(sonnets_text, rhythmical_lengths=sonnets_lengths)\n",
    "rantanplan_sonnets_stress = [line[\"rhythm\"][\"stress\"] for line in rantanplan_sonnets]"
   ]
  },
  {
   "cell_type": "markdown",
   "metadata": {},
   "source": [
    "### Accuracy on ADSO"
   ]
  },
  {
   "cell_type": "code",
   "execution_count": 75,
   "metadata": {},
   "outputs": [
    {
     "name": "stdout",
     "output_type": "stream",
     "text": [
      "Rantanplan on ADSO: 0.9245 (9.5431s)\n"
     ]
    }
   ],
   "source": [
    "rantanplan_adso_stress = [line[\"rhythm\"][\"stress\"] for line in rantanplan_adso]\n",
    "accuracy_rantanplan_adso = sum(rantanplan_adso_stress == adso.metrical_pattern) / adso.metrical_pattern.size\n",
    "print(f\"Rantanplan on ADSO: {accuracy_rantanplan_adso:.4f} ({rantanplan_adso_times.average:.4f}s)\")"
   ]
  },
  {
   "cell_type": "markdown",
   "metadata": {},
   "source": [
    "### Accuracy on Sonnets"
   ]
  },
  {
   "cell_type": "code",
   "execution_count": 68,
   "metadata": {},
   "outputs": [
    {
     "name": "stdout",
     "output_type": "stream",
     "text": [
      "Rantanplan on Sonnets: 0.8793 (53.5131s)\n"
     ]
    }
   ],
   "source": [
    "rantanplan_sonnets_stress = [line[\"rhythm\"][\"stress\"] for line in rantanplan_sonnets]\n",
    "accuracy_rantanplan_sonnets = sum(rantanplan_sonnets_stress == sonnets.metrical_pattern) / sonnets.metrical_pattern.size\n",
    "print(f\"Rantanplan on Sonnets: {accuracy_rantanplan_sonnets:.4f} ({rantanplan_sonnets_times.average:.4f}s)\")"
   ]
  },
  {
   "cell_type": "markdown",
   "metadata": {},
   "source": [
    "---"
   ]
  },
  {
   "cell_type": "markdown",
   "metadata": {},
   "source": [
    "# Results "
   ]
  },
  {
   "cell_type": "code",
   "execution_count": 69,
   "metadata": {},
   "outputs": [],
   "source": [
    "from IPython.display import display, HTML"
   ]
  },
  {
   "cell_type": "markdown",
   "metadata": {},
   "source": [
    "## ADSO"
   ]
  },
  {
   "cell_type": "code",
   "execution_count": 70,
   "metadata": {},
   "outputs": [
    {
     "data": {
      "text/html": [
       "<table border=\"1\" class=\"dataframe\">\n",
       "  <thead>\n",
       "    <tr style=\"text-align: right;\">\n",
       "      <th>Model</th>\n",
       "      <th>Accuracy</th>\n",
       "      <th>Time</th>\n",
       "    </tr>\n",
       "  </thead>\n",
       "  <tbody>\n",
       "    <tr>\n",
       "      <td>Gervás</td>\n",
       "      <td>0.708753</td>\n",
       "      <td>N/A</td>\n",
       "    </tr>\n",
       "    <tr>\n",
       "      <td>Navarro-Colorado</td>\n",
       "      <td>0.945324</td>\n",
       "      <td>2698.15</td>\n",
       "    </tr>\n",
       "    <tr>\n",
       "      <td>Rantanplan</td>\n",
       "      <td>0.924460</td>\n",
       "      <td>9.54309</td>\n",
       "    </tr>\n",
       "  </tbody>\n",
       "</table>"
      ],
      "text/plain": [
       "<IPython.core.display.HTML object>"
      ]
     },
     "metadata": {},
     "output_type": "display_data"
    }
   ],
   "source": [
    "display(HTML(\n",
    "    pd.DataFrame([\n",
    "        [\"Gervás\", accuracy_gervas_adso, \"N/A\"],\n",
    "        [\"Navarro-Colorado\", accuracy_navarro_colorado_adso, float(navarro_colorado_adso_times[\"real\"])],\n",
    "        [\"Rantanplan\", accuracy_rantanplan_adso, rantanplan_adso_times.average]\n",
    "    ], columns=[\"Model\", \"Accuracy\", \"Time\"]).to_html(index=False)\n",
    "))"
   ]
  },
  {
   "cell_type": "markdown",
   "metadata": {},
   "source": [
    "## Sonnets"
   ]
  },
  {
   "cell_type": "code",
   "execution_count": 71,
   "metadata": {},
   "outputs": [
    {
     "data": {
      "text/html": [
       "<table border=\"1\" class=\"dataframe\">\n",
       "  <thead>\n",
       "    <tr style=\"text-align: right;\">\n",
       "      <th>Model</th>\n",
       "      <th>Accuracy</th>\n",
       "      <th>Time</th>\n",
       "    </tr>\n",
       "  </thead>\n",
       "  <tbody>\n",
       "    <tr>\n",
       "      <td>Gervás</td>\n",
       "      <td>0.675900</td>\n",
       "      <td>N/A</td>\n",
       "    </tr>\n",
       "    <tr>\n",
       "      <td>Navarro-Colorado</td>\n",
       "      <td>0.908815</td>\n",
       "      <td>19945</td>\n",
       "    </tr>\n",
       "    <tr>\n",
       "      <td>Rantanplan</td>\n",
       "      <td>0.879334</td>\n",
       "      <td>53.5131</td>\n",
       "    </tr>\n",
       "  </tbody>\n",
       "</table>"
      ],
      "text/plain": [
       "<IPython.core.display.HTML object>"
      ]
     },
     "metadata": {},
     "output_type": "display_data"
    }
   ],
   "source": [
    "display(HTML(\n",
    "    pd.DataFrame([\n",
    "        [\"Gervás\", accuracy_gervas_sonnets, \"N/A\"],\n",
    "        [\"Navarro-Colorado\", accuracy_navarro_colorado_sonnets, float(navarro_colorado_sonnets_times[\"real\"])],\n",
    "        [\"Rantanplan\", accuracy_rantanplan_sonnets, rantanplan_sonnets_times.average]\n",
    "    ], columns=[\"Model\", \"Accuracy\", \"Time\"]).to_html(index=False)\n",
    "))"
   ]
  }
 ],
 "metadata": {
  "kernelspec": {
   "display_name": "Python 3",
   "language": "python",
   "name": "python3"
  },
  "language_info": {
   "codemirror_mode": {
    "name": "ipython",
    "version": 3
   },
   "file_extension": ".py",
   "mimetype": "text/x-python",
   "name": "python",
   "nbconvert_exporter": "python",
   "pygments_lexer": "ipython3",
   "version": "3.7.5"
  }
 },
 "nbformat": 4,
 "nbformat_minor": 2
}
