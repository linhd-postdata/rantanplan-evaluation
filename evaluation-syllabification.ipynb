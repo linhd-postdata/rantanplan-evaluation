{
 "cells": [
  {
   "cell_type": "markdown",
   "metadata": {},
   "source": [
    "# Evaluation on syllabified words"
   ]
  },
  {
   "cell_type": "markdown",
   "metadata": {},
   "source": [
    "This Notebook contains the evaluation metrics for [`Rantanplan`](https://pypi.org/project/rantanplan/0.4.3/) v0.4.3"
   ]
  },
  {
   "cell_type": "code",
   "execution_count": 1,
   "metadata": {},
   "outputs": [
    {
     "name": "stdout",
     "output_type": "stream",
     "text": [
      "Last run: June 19 2020 - 09:27:38\n"
     ]
    }
   ],
   "source": [
    "from datetime import datetime\n",
    "print(f\"Last run: {datetime.utcnow().strftime('%B %d %Y - %H:%M:%S')}\")"
   ]
  },
  {
   "cell_type": "markdown",
   "metadata": {},
   "source": [
    "## Setup"
   ]
  },
  {
   "cell_type": "markdown",
   "metadata": {},
   "source": [
    "Installation of necessary libaries and loading the reference corpus [EDFU](https://github.com/linhd-postdata/edfu/)."
   ]
  },
  {
   "cell_type": "code",
   "execution_count": 2,
   "metadata": {},
   "outputs": [],
   "source": [
    "!pip install -q pandas numpy \"spacy<2.3.0\" spacy_affixes\n",
    "!pip install -q https://github.com/linhd-postdata/averell/archive/develop.zip"
   ]
  },
  {
   "cell_type": "code",
   "execution_count": 3,
   "metadata": {},
   "outputs": [],
   "source": [
    "%%bash --out _\n",
    "python -m spacy download es_core_news_md \n",
    "python -m spacy_affixes download es"
   ]
  },
  {
   "cell_type": "code",
   "execution_count": 4,
   "metadata": {},
   "outputs": [],
   "source": [
    "!pip install -q \"rantanplan==0.4.3\""
   ]
  },
  {
   "cell_type": "code",
   "execution_count": 5,
   "metadata": {},
   "outputs": [],
   "source": [
    "import requests\n",
    "import json"
   ]
  },
  {
   "cell_type": "code",
   "execution_count": 6,
   "metadata": {},
   "outputs": [
    {
     "name": "stdout",
     "output_type": "stream",
     "text": [
      "EDFU corpus contains 106353 syllabified words\n"
     ]
    }
   ],
   "source": [
    "edfu = requests.get(\"https://github.com/linhd-postdata/edfu/blob/v1.0.0/edfu.json?raw=true\").json()\n",
    "with open(\"data/edfu.txt\", \"w\") as file:\n",
    "    file.write(\"\\n\".join(edfu.keys()))\n",
    "print(f\"EDFU corpus contains {len(edfu)} syllabified words\")"
   ]
  },
  {
   "cell_type": "markdown",
   "metadata": {},
   "source": [
    "## Agirrezabal"
   ]
  },
  {
   "cell_type": "markdown",
   "metadata": {},
   "source": [
    "Agirrezabal's syllabification system is a finite state machine written in [_foma_](https://fomafst.github.io/), which is available for most OS's. We will use the native package in Ubuntu after being instaled via `apt` (it also installs the `flookup` tool):\n",
    "```bash\n",
    "$ sudo apt install -y foma\n",
    "```"
   ]
  },
  {
   "cell_type": "code",
   "execution_count": 7,
   "metadata": {},
   "outputs": [],
   "source": [
    "%%bash --out _\n",
    "# downloads a foma script for Spanish syllabification\n",
    "wget -q -O silabaEs.script https://bitbucket.org/manexagirrezabal/syllabification_gold_standard/raw/master/ruleSyllabifiers/silabaEs.script\n",
    "# compiles the foma script\n",
    "foma -q -f silabaEs.script\n",
    "# runs foma on the words in EDFU\n",
    "cat data/edfu.txt | flookup -ix silabaEs.fst > data/agirrezabal_edfu.txt "
   ]
  },
  {
   "cell_type": "code",
   "execution_count": 8,
   "metadata": {},
   "outputs": [],
   "source": [
    "with open(\"data/agirrezabal_edfu.txt\", \"r\") as manex_file:\n",
    "    lines = manex_file.read().replace(\".\", \"-\").split(\"\\n\")\n",
    "    agirrezabal_edfu = {line.replace(\"-\", \"\"): line for line in lines if line.strip()}"
   ]
  },
  {
   "cell_type": "markdown",
   "metadata": {},
   "source": [
    "### Accuracy on EDFU"
   ]
  },
  {
   "cell_type": "code",
   "execution_count": 9,
   "metadata": {},
   "outputs": [
    {
     "name": "stdout",
     "output_type": "stream",
     "text": [
      "Agirrezabal on EDFU: 0.9807\n"
     ]
    }
   ],
   "source": [
    "correct = len(set(agirrezabal_edfu.values()) & set(edfu.values()))\n",
    "agirrezabal_edfu_accuracy = correct / len(edfu)\n",
    "print(f\"Agirrezabal on EDFU: {agirrezabal_edfu_accuracy:.4f}\")"
   ]
  },
  {
   "cell_type": "markdown",
   "metadata": {},
   "source": [
    "---"
   ]
  },
  {
   "cell_type": "markdown",
   "metadata": {},
   "source": [
    "## Navarro-Colorado"
   ]
  },
  {
   "cell_type": "markdown",
   "metadata": {},
   "source": [
    "Since Navarro-Colorado's system is not packaged and therefore the syllabification algorithm is not exposed, we'll use the Docker image to work around this limitation with a custom script (it will take a long time, several hours)."
   ]
  },
  {
   "cell_type": "code",
   "execution_count": 10,
   "metadata": {},
   "outputs": [],
   "source": [
    "navarro_colorado_syllabification = \"from modules.escansion import *; print(AnalizaSilabas.analizaSilabas(AnalizaCategoriaGramaticalFreeling.Analiza(verso=modernizaTexto(' . '.join(open('/data/edfu.txt').read().split())))).lower());\"\n",
    "navarro_colorado_edfu_out = ! docker run -v $(pwd)/data:/data linhdpostdata/adso python3 -c \"{navarro_colorado_syllabification}\"\n",
    "navarro_colorado_edfu = navarro_colorado_edfu_out[0].strip().split()\n",
    "with open(\"data/navarro_colorado_edfu.txt\", \"w\") as file:\n",
    "    file.write(\"\\n\".join(navarro_colorado_edfu))"
   ]
  },
  {
   "cell_type": "markdown",
   "metadata": {},
   "source": [
    "### Accuracy on EDFU"
   ]
  },
  {
   "cell_type": "code",
   "execution_count": 11,
   "metadata": {},
   "outputs": [
    {
     "name": "stdout",
     "output_type": "stream",
     "text": [
      "Navarro-Colorado on EDFU: 0.9835\n"
     ]
    }
   ],
   "source": [
    "correct = len(set(navarro_colorado_edfu) & set(edfu.values()))\n",
    "navarro_colorado_edfu_accuracy = correct / len(edfu)\n",
    "print(f\"Navarro-Colorado on EDFU: {navarro_colorado_edfu_accuracy:.4f}\")"
   ]
  },
  {
   "cell_type": "markdown",
   "metadata": {},
   "source": [
    "---"
   ]
  },
  {
   "cell_type": "markdown",
   "metadata": {},
   "source": [
    "## Rantanplan"
   ]
  },
  {
   "cell_type": "code",
   "execution_count": 12,
   "metadata": {},
   "outputs": [],
   "source": [
    "from rantanplan.core import syllabify\n",
    "\n",
    "rantanplan_edfu = [\"-\".join(syllabify(word)[0]) for word in edfu.keys()]"
   ]
  },
  {
   "cell_type": "markdown",
   "metadata": {},
   "source": [
    "### Accuracy on EDFU"
   ]
  },
  {
   "cell_type": "code",
   "execution_count": 13,
   "metadata": {},
   "outputs": [
    {
     "name": "stdout",
     "output_type": "stream",
     "text": [
      "Rantanplan on on EDFU: 1.0000\n"
     ]
    }
   ],
   "source": [
    "correct = len(set(rantanplan_edfu) & set(edfu.values()))\n",
    "rantanplan_edfu_accuracy = correct / len(edfu)\n",
    "print(f\"Rantanplan on on EDFU: {rantanplan_edfu_accuracy:.4f}\")"
   ]
  },
  {
   "cell_type": "markdown",
   "metadata": {},
   "source": [
    "---"
   ]
  },
  {
   "cell_type": "markdown",
   "metadata": {},
   "source": [
    "# Results"
   ]
  },
  {
   "cell_type": "code",
   "execution_count": 14,
   "metadata": {},
   "outputs": [
    {
     "data": {
      "text/html": [
       "<table border=\"1\" class=\"dataframe\">\n",
       "  <thead>\n",
       "    <tr style=\"text-align: right;\">\n",
       "      <th>Model</th>\n",
       "      <th>Accuracy</th>\n",
       "    </tr>\n",
       "  </thead>\n",
       "  <tbody>\n",
       "    <tr>\n",
       "      <td>Navarro-Colorado</td>\n",
       "      <td>0.983536</td>\n",
       "    </tr>\n",
       "    <tr>\n",
       "      <td>Agirrezabal</td>\n",
       "      <td>0.980659</td>\n",
       "    </tr>\n",
       "    <tr>\n",
       "      <td>Rantanplan</td>\n",
       "      <td>1.000000</td>\n",
       "    </tr>\n",
       "  </tbody>\n",
       "</table>"
      ],
      "text/plain": [
       "<IPython.core.display.HTML object>"
      ]
     },
     "metadata": {},
     "output_type": "display_data"
    }
   ],
   "source": [
    "import pandas as pd\n",
    "from IPython.display import display, HTML\n",
    "\n",
    "display(HTML(\n",
    "    pd.DataFrame([\n",
    "        [\"Navarro-Colorado\", navarro_colorado_edfu_accuracy],\n",
    "        [\"Agirrezabal\", agirrezabal_edfu_accuracy],\n",
    "        [\"Rantanplan\", rantanplan_edfu_accuracy],\n",
    "    ], columns=[\"Model\", \"Accuracy\"]).to_html(index=False)\n",
    "))"
   ]
  }
 ],
 "metadata": {
  "kernelspec": {
   "display_name": "Python 3",
   "language": "python",
   "name": "python3"
  },
  "language_info": {
   "codemirror_mode": {
    "name": "ipython",
    "version": 3
   },
   "file_extension": ".py",
   "mimetype": "text/x-python",
   "name": "python",
   "nbconvert_exporter": "python",
   "pygments_lexer": "ipython3",
   "version": "3.7.5"
  }
 },
 "nbformat": 4,
 "nbformat_minor": 2
}
